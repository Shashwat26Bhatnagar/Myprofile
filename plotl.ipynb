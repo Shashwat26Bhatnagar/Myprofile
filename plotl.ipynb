{
  "nbformat": 4,
  "nbformat_minor": 0,
  "metadata": {
    "colab": {
      "provenance": [],
      "authorship_tag": "ABX9TyNufKp5Lh+CMvAPDd+t8yhq",
      "include_colab_link": true
    },
    "kernelspec": {
      "name": "python3",
      "display_name": "Python 3"
    },
    "language_info": {
      "name": "python"
    }
  },
  "cells": [
    {
      "cell_type": "markdown",
      "metadata": {
        "id": "view-in-github",
        "colab_type": "text"
      },
      "source": [
        "<a href=\"https://colab.research.google.com/github/Shashwat26Bhatnagar/Myprofile/blob/main/plotl.ipynb\" target=\"_parent\"><img src=\"https://colab.research.google.com/assets/colab-badge.svg\" alt=\"Open In Colab\"/></a>"
      ]
    },
    {
      "cell_type": "code",
      "execution_count": null,
      "metadata": {
        "id": "m9fLpV9l1FrP"
      },
      "outputs": [],
      "source": []
    },
    {
      "cell_type": "markdown",
      "source": [
        "IMPORT"
      ],
      "metadata": {
        "id": "xzvKTgU81waS"
      }
    },
    {
      "cell_type": "code",
      "source": [
        "import pandas as pd\n",
        "import numpy as np\n",
        "import cufflinks as cf\n",
        "import chart_studio.plotly as py\n",
        "import seaborn as sns\n",
        "import plotly.express as px\n",
        "%matplotlib inline\n",
        "\n",
        "from plotly.offline import download_plotlyjs,init_notebook_mode,plot,iplot\n",
        "init_notebook_mode(connected=True)\n",
        "cf.go_offline()\n"
      ],
      "metadata": {
        "id": "R2rZs8BM1z49"
      },
      "execution_count": null,
      "outputs": []
    },
    {
      "cell_type": "markdown",
      "source": [
        "Basics"
      ],
      "metadata": {
        "id": "UpC1piZE3F7L"
      }
    },
    {
      "cell_type": "code",
      "source": [
        "arr_1=np.random.randn(50,4)#50- number of data and 4 is column number\\\n",
        "df_1=pd.DataFrame(arr_1,columns=['a','b','c','d'])\n",
        "df_1.head()\n",
        "df_1.plot()\n",
        "df_1.iplot"
      ],
      "metadata": {
        "id": "LgtzinkG3FFD"
      },
      "execution_count": null,
      "outputs": []
    },
    {
      "cell_type": "markdown",
      "source": [],
      "metadata": {
        "id": "Qs5DJHco3AUZ"
      }
    }
  ]
}